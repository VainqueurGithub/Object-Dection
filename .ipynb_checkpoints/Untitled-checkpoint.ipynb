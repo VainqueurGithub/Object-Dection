{
 "cells": [
  {
   "cell_type": "markdown",
   "id": "a7a347f3-981e-423d-b09b-5bcbb6872056",
   "metadata": {},
   "source": [
    "YOLOV8 Nano model"
   ]
  },
  {
   "cell_type": "code",
   "execution_count": 3,
   "id": "9b7837c3-1028-41be-b7dc-53df382eaf77",
   "metadata": {},
   "outputs": [
    {
     "name": "stdout",
     "output_type": "stream",
     "text": [
      "Creating new Ultralytics Settings v0.0.6 file  \n",
      "View Ultralytics Settings with 'yolo settings' or at 'C:\\Users\\vainq\\AppData\\Roaming\\Ultralytics\\settings.json'\n",
      "Update Settings with 'yolo settings key=value', i.e. 'yolo settings runs_dir=path/to/dir'. For help see https://docs.ultralytics.com/quickstart/#ultralytics-settings.\n"
     ]
    }
   ],
   "source": [
    "from ultralytics import YOLO"
   ]
  },
  {
   "cell_type": "code",
   "execution_count": null,
   "id": "3deef910",
   "metadata": {},
   "outputs": [],
   "source": [
    "model = YOLO('yolov8m.pt')\n",
    "# Training.\n",
    "results = model.train(\n",
    "   data='wildanimal_v8.yaml',\n",
    "   imgsz=640,\n",
    "   epochs=50,\n",
    "   batch=8,\n",
    "   name='yolov8m_custom')"
   ]
  },
  {
   "cell_type": "code",
   "execution_count": 5,
   "id": "88a651b2-32ba-4201-abb5-edc9eb6672d7",
   "metadata": {},
   "outputs": [
    {
     "name": "stdout",
     "output_type": "stream",
     "text": [
      "Ultralytics 8.3.14  Python-3.11.5 torch-2.4.1+cpu CPU (AMD Ryzen 3 PRO 3300U w/ Radeon Vega Mobile Gfx)\n",
      "Model summary (fused): 218 layers, 25,842,655 parameters, 0 gradients, 78.7 GFLOPs\n"
     ]
    },
    {
     "name": "stderr",
     "output_type": "stream",
     "text": [
      "\u001b[34m\u001b[1mval: \u001b[0mScanning C:\\Users\\vainq\\Wild animal detection\\Wild animal detection\\datasets\\detection_antelope-1\\valid\\labels.cache... 60 images, 0 backgrounds, 0 corrupt: 100%|██████████| 60/60 [00:00<?, ?it/s]\n",
      "                 Class     Images  Instances      Box(P          R      mAP50  mAP50-95): 100%|██████████| 4/4 [01:18<00:00, 19.57s/it]\n"
     ]
    },
    {
     "name": "stdout",
     "output_type": "stream",
     "text": [
      "                   all         60         77      0.917       0.74      0.851      0.608\n",
      "              antelope         12         15      0.943      0.667      0.894      0.489\n",
      "                badger         12         12      0.962      0.917      0.966       0.73\n",
      "            chimpanzee         12         13          1      0.555      0.797      0.631\n",
      "              elephant         12         22      0.944       0.76      0.839      0.572\n",
      "               gorilla         12         15      0.737        0.8      0.761      0.617\n",
      "Speed: 7.4ms preprocess, 1277.5ms inference, 0.0ms loss, 0.4ms postprocess per image\n",
      "Results saved to \u001b[1mruns\\detect\\yolov8m_eval2\u001b[0m\n"
     ]
    }
   ],
   "source": [
    "# Load the model.\n",
    "model = YOLO('runs/detect/yolov8m_custom8/weights/best.pt')\n",
    "# Validating.\n",
    "results = model.val(\n",
    "   data='wildanimal_v8.yaml',\n",
    "   imgsz=640,\n",
    "   name='yolov8m_eval')"
   ]
  },
  {
   "cell_type": "code",
   "execution_count": 40,
   "id": "60e0fbcb-8222-431a-a9ee-e67f925f8775",
   "metadata": {},
   "outputs": [
    {
     "name": "stdout",
     "output_type": "stream",
     "text": [
      "\n",
      "image 1/1 C:\\Users\\vainq\\Wild animal detection\\Wild animal detection\\inference_data\\African forest elephant (common name). Loxonta cyclotis (Scientific name). Nkuba Conservation Area (NCA).  16-July-2023. JPG.JPG: 480x640 2 elephants, 1 gorilla, 736.5ms\n",
      "Speed: 0.0ms preprocess, 736.5ms inference, 0.0ms postprocess per image at shape (1, 3, 480, 640)\n",
      "Results saved to \u001b[1mruns\\detect\\yolov8m22\u001b[0m\n"
     ]
    }
   ],
   "source": [
    "def predict_class(source, filename):\n",
    "    model = YOLO('runs/detect/yolov8m_custom8/weights/best.pt')\n",
    "\n",
    "    #Predicting\n",
    "    result=model.predict(\n",
    "        source=source+'/'+filename,show = True, imgsz=640,save = True,name='yolov8m')\n",
    "    return result"
   ]
  },
  {
   "cell_type": "code",
   "execution_count": null,
   "id": "af38e730",
   "metadata": {},
   "outputs": [],
   "source": [
    "import os\n",
    "def table_prediction(prediction_result):\n",
    "    gorilla=0\n",
    "    chimp = 0\n",
    "    elephant = 0\n",
    "    badger = 0\n",
    "    entilope = 0\n",
    "    for r in result:\n",
    "        for cl in r.boxes.cls:\n",
    "            if(cl.item()==3.0):\n",
    "                elephant+=1\n",
    "            if(cl.item()==0.0): \n",
    "                entilope+=1\n",
    "            if(cl.item()==1.0): \n",
    "                badger+=1\n",
    "            if(cl.item()==2.0): \n",
    "                chimp+=1\n",
    "            if(cl.item()==4.0): \n",
    "                gorilla+=1\n",
    "    return gorilla,elephant,entilope,badger,chimp"
   ]
  },
  {
   "cell_type": "code",
   "execution_count": 49,
   "id": "f9766f36",
   "metadata": {},
   "outputs": [
    {
     "name": "stdout",
     "output_type": "stream",
     "text": [
      "C:/Users/vainq/Wild animal detection/inference_data/02110238.JPG\n",
      "C:/Users/vainq/Wild animal detection/inference_data/02170452.JPG\n",
      "C:/Users/vainq/Wild animal detection/inference_data/02210274 (1).JPG\n",
      "C:/Users/vainq/Wild animal detection/inference_data/02210274.JPG\n",
      "C:/Users/vainq/Wild animal detection/inference_data/07060385.JPG\n",
      "C:/Users/vainq/Wild animal detection/inference_data/07110398.JPG\n",
      "C:/Users/vainq/Wild animal detection/inference_data/07290039.JPG\n",
      "C:/Users/vainq/Wild animal detection/inference_data/09040602.JPG\n",
      "C:/Users/vainq/Wild animal detection/inference_data/09050045.JPG\n",
      "C:/Users/vainq/Wild animal detection/inference_data/11050859.JPG\n",
      "C:/Users/vainq/Wild animal detection/inference_data/12100192.JPG\n",
      "C:/Users/vainq/Wild animal detection/inference_data/African forest elephant (common name). Loxonta cyclotis (Scientific name). Nkuba Conservation Area (NCA).  16-July-2023. JPG.JPG\n",
      "C:/Users/vainq/Wild animal detection/inference_data/African forest elephant (common name). Loxonta cyclotis (Scientific name). Nkuba Conservation Area (NCA).  26-December-2022. JPG.JPG\n",
      "C:/Users/vainq/Wild animal detection/inference_data/African forest elephant (common name). Loxonta cyclotis (Scientific name). Nkuba Conservation Area (NCA). 11-December-2022 (1).JPG\n",
      "C:/Users/vainq/Wild animal detection/inference_data/African forest elephant (common name). Loxonta cyclotis (Scientific name). Nkuba Conservation Area (NCA). 11-December-2022.JPG\n",
      "C:/Users/vainq/Wild animal detection/inference_data/African forest elephant (common name). Loxonta cyclotis (Scientific name). Nkuba Conservation Area (NCA). 24-December-2022. JPG.JPG\n",
      "C:/Users/vainq/Wild animal detection/inference_data/BlackBack1.JPG\n",
      "C:/Users/vainq/Wild animal detection/inference_data/EK000001.JPG\n",
      "C:/Users/vainq/Wild animal detection/inference_data/EK000014.JPG\n",
      "C:/Users/vainq/Wild animal detection/inference_data/EK000016.JPG\n",
      "C:/Users/vainq/Wild animal detection/inference_data/EK000027.JPG\n",
      "C:/Users/vainq/Wild animal detection/inference_data/EK000130.JPG\n",
      "C:/Users/vainq/Wild animal detection/inference_data/EK000160.JPG\n",
      "C:/Users/vainq/Wild animal detection/inference_data/EK000165.JPG\n",
      "C:/Users/vainq/Wild animal detection/inference_data/EK000235.JPG\n",
      "C:/Users/vainq/Wild animal detection/inference_data/EK000240.JPG\n",
      "C:/Users/vainq/Wild animal detection/inference_data/EK000419.JPG\n",
      "C:/Users/vainq/Wild animal detection/inference_data/Leopard (common name). Panthera pardus (scientific name). Nkuba Conservation Area (NCA). 25-March-2023. JPG.JPG\n",
      "C:/Users/vainq/Wild animal detection/inference_data/Leopard (common name). Panthera pardus (scientific name). Nkuba Conservation Area (NCA). 28-April-2023. JPG.JPG\n",
      "C:/Users/vainq/Wild animal detection/inference_data/Mwinga_Mwira4.JPG\n",
      "C:/Users/vainq/Wild animal detection/inference_data/RCNX0033.JPG\n",
      "C:/Users/vainq/Wild animal detection/inference_data/RCNX0034.JPG\n",
      "C:/Users/vainq/Wild animal detection/inference_data/RCNX0035.JPG\n",
      "C:/Users/vainq/Wild animal detection/inference_data/RCNX0461 (1).JPG\n",
      "C:/Users/vainq/Wild animal detection/inference_data/RCNX1210.JPG\n",
      "C:/Users/vainq/Wild animal detection/inference_data/SiriAmy.JPG\n",
      "C:/Users/vainq/Wild animal detection/inference_data/Tents in the forest_forest life [La vie en forêt] 23-February-2024 NCA Jean Marie Kibiswa  (1).JPG\n",
      "C:/Users/vainq/Wild animal detection/inference_data/Urbain, Paul, and Vainqueur in a canoe [Equipe biodiversité] 23-February-2024 NCA Jean Marie Kibiswa  (89).JPG\n"
     ]
    }
   ],
   "source": [
    "import os\n",
    "directory = os.fsencode(\"C:/Users/vainq/Wild animal detection/inference_data\")\n",
    "for file in os.listdir(directory):\n",
    "    filename = os.fsdecode(file)\n",
    "    if filename.endswith(\".JPG\") or filename.endswith(\".PNG\"):\n",
    "        result=predict_class(directory,filename)\n",
    "        gorilla,elephant,entilope,badger,chimp = table_prediction(result)\n",
    "        continue\n",
    "    else:\n",
    "        break"
   ]
  },
  {
   "cell_type": "markdown",
   "id": "13a268ed-7ec7-4f51-bbc7-bd84d95c5a97",
   "metadata": {},
   "source": [
    "YOLO8 Medium model"
   ]
  },
  {
   "cell_type": "code",
   "execution_count": 41,
   "id": "5a2b23e5",
   "metadata": {},
   "outputs": [],
   "source": []
  },
  {
   "cell_type": "code",
   "execution_count": 44,
   "id": "10edcda5",
   "metadata": {},
   "outputs": [
    {
     "name": "stdout",
     "output_type": "stream",
     "text": [
      "1\n"
     ]
    }
   ],
   "source": [
    "print(gorilla)"
   ]
  },
  {
   "cell_type": "code",
   "execution_count": null,
   "id": "365da48e",
   "metadata": {},
   "outputs": [],
   "source": []
  }
 ],
 "metadata": {
  "kernelspec": {
   "display_name": "Python 3 (ipykernel)",
   "language": "python",
   "name": "python3"
  },
  "language_info": {
   "codemirror_mode": {
    "name": "ipython",
    "version": 3
   },
   "file_extension": ".py",
   "mimetype": "text/x-python",
   "name": "python",
   "nbconvert_exporter": "python",
   "pygments_lexer": "ipython3",
   "version": "3.11.5"
  }
 },
 "nbformat": 4,
 "nbformat_minor": 5
}
